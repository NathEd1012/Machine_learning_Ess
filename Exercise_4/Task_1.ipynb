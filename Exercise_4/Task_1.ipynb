{
 "cells": [
  {
   "cell_type": "markdown",
   "metadata": {},
   "source": [
    "# Task 1"
   ]
  },
  {
   "cell_type": "code",
   "execution_count": 20,
   "metadata": {},
   "outputs": [],
   "source": [
    "import numpy\n",
    "import matplotlib.pyplot as plt\n",
    "import os\n",
    "import scipy\n",
    "\n",
    "import torch\n",
    "import torch.optim as optim\n",
    "from torch.utils.data import DataLoader"
   ]
  },
  {
   "cell_type": "code",
   "execution_count": 21,
   "metadata": {},
   "outputs": [],
   "source": [
    "def construct_X(M, alphas, Np = None):\n",
    "    if Np is None:\n",
    "        Np = int(np.ceil(np.sqrt(2) * M))\n",
    "    i_indices = []\n",
    "    j_indices = []\n",
    "    weights = []\n",
    "\n",
    "    N = len(alphas) * Np\n",
    "    D = M * M\n",
    "    X = scipy.sparse.coo_matrix((weights, (i_indices, j_indices)), shape=(N, D), dtype = numpy.float32),\n",
    "\n",
    "    return X"
   ]
  },
  {
   "cell_type": "code",
   "execution_count": 23,
   "metadata": {},
   "outputs": [
    {
     "name": "stdout",
     "output_type": "stream",
     "text": [
      "alpha:  (90,) y (9810,)\n",
      "(<9810x5929 sparse matrix of type '<class 'numpy.float32'>'\n",
      "\twith 0 stored elements in COOrdinate format>,)\n"
     ]
    }
   ],
   "source": [
    "directory = 'hs_tomography'\n",
    "\n",
    "# M = 77 for small dataset 195 for bigger dataset\n",
    "M = 77\n",
    "\n",
    "# load the dataset\n",
    "file_name_alpha = 'alphas_'+str(M)+'.npy'\n",
    "file_name_y = 'y_'+str(M)+'.npy'\n",
    "\n",
    "data_alpha = np.load(os.path.join(directory, file_name_alpha))\n",
    "data_y = np.load(os.path.join(directory, file_name_y))\n",
    "print(\"alpha: \", data_alpha.shape, \"y\", data_y.shape)\n",
    "\n",
    "\n",
    "# call function to construct X\n",
    "X = construct_X(M, data_alpha, Np = None)\n",
    "\n",
    "print(X)"
   ]
  },
  {
   "cell_type": "markdown",
   "metadata": {},
   "source": []
  },
  {
   "cell_type": "markdown",
   "metadata": {},
   "source": []
  }
 ],
 "metadata": {
  "kernelspec": {
   "display_name": "base",
   "language": "python",
   "name": "python3"
  },
  "language_info": {
   "codemirror_mode": {
    "name": "ipython",
    "version": 3
   },
   "file_extension": ".py",
   "mimetype": "text/x-python",
   "name": "python",
   "nbconvert_exporter": "python",
   "pygments_lexer": "ipython3",
   "version": "3.10.9"
  }
 },
 "nbformat": 4,
 "nbformat_minor": 2
}
