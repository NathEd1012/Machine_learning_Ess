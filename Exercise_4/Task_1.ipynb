{
 "cells": [
  {
   "cell_type": "markdown",
   "metadata": {},
   "source": [
    "# Task 1"
   ]
  },
  {
   "cell_type": "code",
   "execution_count": 31,
   "metadata": {},
   "outputs": [],
   "source": [
    "\n",
    "import os\n",
    "import numpy as np\n",
    "import matplotlib.pyplot as plt\n",
    "from scipy.sparse import coo_matrix\n",
    "\n",
    "\n",
    "import torch\n",
    "import torch.optim as optim\n",
    "from torch.utils.data import DataLoader"
   ]
  },
  {
   "cell_type": "code",
   "execution_count": 32,
   "metadata": {},
   "outputs": [],
   "source": [
    "def construct_X(M, alphas, Np = None):\n",
    "    if Np is None:\n",
    "        Np = int(np.ceil(np.sqrt(2) * M))\n",
    "    i_indices = []\n",
    "    j_indices = []\n",
    "    weights = []\n",
    "\n",
    "    N = len(alphas) * Np\n",
    "    D = M * M\n",
    "    X = scipy.sparse.coo_matrix((weights, (i_indices, j_indices)), shape=(N, D), dtype = numpy.float32),\n",
    "\n",
    "    return X"
   ]
  },
  {
   "cell_type": "code",
   "execution_count": 42,
   "metadata": {},
   "outputs": [],
   "source": [
    "def construct_X(M, alphas, Np=None):\n",
    "    if Np is None:\n",
    "        Np = int(np.ceil(np.sqrt(2) * M))\n",
    "    \n",
    "    h = 1  # Pixel distance\n",
    "    x = np.linspace(-(M-1)/2, (M-1)/2, M)\n",
    "    y = np.linspace(-(M-1)/2, (M-1)/2, M)\n",
    "    Cx, Cy = np.meshgrid(x, y)\n",
    "    C = np.vstack([Cx.ravel(), Cy.ravel()])\n",
    "    \n",
    "    i_indices = []\n",
    "    j_indices = []\n",
    "    weights = []\n",
    "    \n",
    "    for alpha in alphas:\n",
    "        theta = np.deg2rad(alpha)\n",
    "        R = np.array([[np.cos(theta), -np.sin(theta)], [np.sin(theta), np.cos(theta)]])\n",
    "        p = R @ C\n",
    "        p[0, :] += (Np-1) / 2\n",
    "        \n",
    "        for j in range(C.shape[1]):\n",
    "            pj = p[:, j]\n",
    "            sensor_idx = int(np.floor(pj[0]))\n",
    "            if 0 <= sensor_idx < Np-1:\n",
    "                i_indices.append(sensor_idx)\n",
    "                j_indices.append(j)\n",
    "                weights.append(1 - (pj[0] - sensor_idx))\n",
    "                \n",
    "                i_indices.append(sensor_idx + 1)\n",
    "                j_indices.append(j)\n",
    "                weights.append(pj[0] - sensor_idx)\n",
    "    \n",
    "    X = coo_matrix((weights, (i_indices, j_indices)), shape=(len(alphas) * Np, M * M), dtype=np.float32)\n",
    "    return X"
   ]
  },
  {
   "cell_type": "code",
   "execution_count": 43,
   "metadata": {},
   "outputs": [
    {
     "name": "stdout",
     "output_type": "stream",
     "text": [
      "The shape of alpha:  (90,) \n",
      " The shape of y: (9810,)\n",
      "  (15, 0)\t0.6574039\n",
      "  (16, 0)\t0.34259614\n",
      "  (15, 1)\t0.63995147\n",
      "  (16, 1)\t0.36004853\n",
      "  (15, 2)\t0.62249905\n",
      "  (16, 2)\t0.37750095\n",
      "  (15, 3)\t0.60504663\n",
      "  (16, 3)\t0.39495337\n",
      "  (15, 4)\t0.5875942\n",
      "  (16, 4)\t0.41240576\n",
      "  (15, 5)\t0.57014185\n",
      "  (16, 5)\t0.42985818\n",
      "  (15, 6)\t0.55268943\n",
      "  (16, 6)\t0.44731057\n",
      "  (15, 7)\t0.535237\n",
      "  (16, 7)\t0.464763\n",
      "  (15, 8)\t0.5177846\n",
      "  (16, 8)\t0.4822154\n",
      "  (15, 9)\t0.5003322\n",
      "  (16, 9)\t0.4996678\n",
      "  (15, 10)\t0.4828798\n",
      "  (16, 10)\t0.5171202\n",
      "  (15, 11)\t0.4654274\n",
      "  (16, 11)\t0.5345726\n",
      "  (15, 12)\t0.44797498\n",
      "  :\t:\n",
      "  (17, 5916)\t0.45955014\n",
      "  (16, 5917)\t0.52299744\n",
      "  (17, 5917)\t0.47700256\n",
      "  (16, 5918)\t0.505545\n",
      "  (17, 5918)\t0.49445495\n",
      "  (16, 5919)\t0.48809263\n",
      "  (17, 5919)\t0.5119074\n",
      "  (16, 5920)\t0.4706402\n",
      "  (17, 5920)\t0.52935976\n",
      "  (16, 5921)\t0.45318782\n",
      "  (17, 5921)\t0.5468122\n",
      "  (16, 5922)\t0.4357354\n",
      "  (17, 5922)\t0.5642646\n",
      "  (16, 5923)\t0.41828302\n",
      "  (17, 5923)\t0.581717\n",
      "  (16, 5924)\t0.4008306\n",
      "  (17, 5924)\t0.5991694\n",
      "  (16, 5925)\t0.38337818\n",
      "  (17, 5925)\t0.6166218\n",
      "  (16, 5926)\t0.3659258\n",
      "  (17, 5926)\t0.6340742\n",
      "  (16, 5927)\t0.34847337\n",
      "  (17, 5927)\t0.65152663\n",
      "  (16, 5928)\t0.33102098\n",
      "  (17, 5928)\t0.66897905\n"
     ]
    }
   ],
   "source": [
    "directory = 'hs_tomography'\n",
    "\n",
    "# M = 77 for small dataset 195 for bigger dataset\n",
    "M = 77\n",
    "\n",
    "# load the dataset\n",
    "file_name_alpha = 'alphas_'+str(M)+'.npy'\n",
    "file_name_y = 'y_'+str(M)+'.npy'\n",
    "\n",
    "data_alpha = np.load(os.path.join(directory, file_name_alpha))\n",
    "data_y = np.load(os.path.join(directory, file_name_y))\n",
    "print(\"The shape of alpha: \", data_alpha.shape,'\\n', \"The shape of y:\", data_y.shape)\n",
    "\n",
    "\n",
    "# call function to construct X\n",
    "X = construct_X(M, data_alpha, Np = None)\n",
    "\n",
    "print(X)"
   ]
  },
  {
   "cell_type": "code",
   "execution_count": 46,
   "metadata": {},
   "outputs": [
    {
     "data": {
      "image/png": "[encoded data removed]",
      "text/plain": [
       "<Figure size 1500x500 with 2 Axes>"
      ]
     },
     "metadata": {},
     "output_type": "display_data"
    }
   ],
   "source": [
    "# Construct the matrix for the given parameters\n",
    "#M = 10\n",
    "#alphas = [-33, 1, 42]\n",
    "#X = construct_X(M, alphas)\n",
    "\n",
    "X_example = np.load('hs_tomography/X_example.npy')\n",
    "\n",
    "# Convert sparse matrix X to dense format\n",
    "X_dense = X.toarray()\n",
    "\n",
    "# Visualize both matrices\n",
    "fig, axes = plt.subplots(1, 2, figsize=(15, 5))\n",
    "\n",
    "axes[0].imshow(X_example, cmap='gray')\n",
    "axes[0].set_title('Example Matrix X_example')\n",
    "\n",
    "axes[1].imshow(X_dense, cmap='gray')\n",
    "axes[1].set_title('Constructed Matrix X')\n",
    "\n",
    "plt.show()"
   ]
  },
  {
   "cell_type": "markdown",
   "metadata": {},
   "source": []
  },
  {
   "cell_type": "markdown",
   "metadata": {},
   "source": []
  }
 ],
 "metadata": {
  "kernelspec": {
   "display_name": "base",
   "language": "python",
   "name": "python3"
  },
  "language_info": {
   "codemirror_mode": {
    "name": "ipython",
    "version": 3
   },
   "file_extension": ".py",
   "mimetype": "text/x-python",
   "name": "python",
   "nbconvert_exporter": "python",
   "pygments_lexer": "ipython3",
   "version": "3.10.9"
  }
 },
 "nbformat": 4,
 "nbformat_minor": 2
}
